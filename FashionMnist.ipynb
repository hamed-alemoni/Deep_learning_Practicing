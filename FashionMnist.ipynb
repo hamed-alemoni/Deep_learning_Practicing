{
 "cells": [
  {
   "cell_type": "code",
   "execution_count": 12,
   "id": "61829c56",
   "metadata": {},
   "outputs": [],
   "source": [
    "import numpy as np\n",
    "from tensorflow.keras.models import Sequential\n",
    "from tensorflow.keras.layers import Flatten, Conv2D, MaxPool2D, Dense, ZeroPadding2D, Dropout\n",
    "from tensorflow.keras.utils import to_categorical\n",
    "from tensorflow.keras.datasets import fashion_mnist\n",
    "import matplotlib.pyplot as plt"
   ]
  },
  {
   "cell_type": "code",
   "execution_count": 2,
   "id": "ac58bf55",
   "metadata": {},
   "outputs": [],
   "source": [
    "(train_images, train_labels), (test_images, test_labels) = fashion_mnist.load_data()"
   ]
  },
  {
   "cell_type": "code",
   "execution_count": 3,
   "id": "9f5a6afb",
   "metadata": {},
   "outputs": [
    {
     "data": {
      "text/plain": [
       "(60000, 28, 28)"
      ]
     },
     "execution_count": 3,
     "metadata": {},
     "output_type": "execute_result"
    }
   ],
   "source": [
    "train_images.shape"
   ]
  },
  {
   "cell_type": "code",
   "execution_count": 4,
   "id": "c428ab4f",
   "metadata": {},
   "outputs": [],
   "source": [
    "train_images = np.expand_dims(train_images, axis=3)\n",
    "test_images = np.expand_dims(test_images, axis=3)"
   ]
  },
  {
   "cell_type": "code",
   "execution_count": 5,
   "id": "9cc9cb77",
   "metadata": {},
   "outputs": [
    {
     "data": {
      "text/plain": [
       "(60000, 28, 28, 1)"
      ]
     },
     "execution_count": 5,
     "metadata": {},
     "output_type": "execute_result"
    }
   ],
   "source": [
    "train_images.shape"
   ]
  },
  {
   "cell_type": "code",
   "execution_count": 6,
   "id": "24ac5f17",
   "metadata": {},
   "outputs": [],
   "source": [
    "train_images = train_images / 255.0\n",
    "test_images = test_images / 255.0"
   ]
  },
  {
   "cell_type": "code",
   "execution_count": 7,
   "id": "77f91322",
   "metadata": {},
   "outputs": [],
   "source": [
    "# one hotting encode\n",
    "train_labels = to_categorical(train_labels)\n",
    "test_labels = to_categorical(test_labels)"
   ]
  },
  {
   "cell_type": "code",
   "execution_count": 8,
   "id": "b869f0db",
   "metadata": {},
   "outputs": [
    {
     "name": "stdout",
     "output_type": "stream",
     "text": [
      "Model: \"sequential\"\n",
      "_________________________________________________________________\n",
      " Layer (type)                Output Shape              Param #   \n",
      "=================================================================\n",
      " zero_padding2d (ZeroPadding  (None, 30, 30, 1)        0         \n",
      " 2D)                                                             \n",
      "                                                                 \n",
      " conv2d (Conv2D)             (None, 28, 28, 32)        320       \n",
      "                                                                 \n",
      " dropout (Dropout)           (None, 28, 28, 32)        0         \n",
      "                                                                 \n",
      " max_pooling2d (MaxPooling2D  (None, 14, 14, 32)       0         \n",
      " )                                                               \n",
      "                                                                 \n",
      " zero_padding2d_1 (ZeroPaddi  (None, 16, 16, 32)       0         \n",
      " ng2D)                                                           \n",
      "                                                                 \n",
      " conv2d_1 (Conv2D)           (None, 14, 14, 64)        18496     \n",
      "                                                                 \n",
      " max_pooling2d_1 (MaxPooling  (None, 7, 7, 64)         0         \n",
      " 2D)                                                             \n",
      "                                                                 \n",
      " dropout_1 (Dropout)         (None, 7, 7, 64)          0         \n",
      "                                                                 \n",
      " flatten (Flatten)           (None, 3136)              0         \n",
      "                                                                 \n",
      " dense (Dense)               (None, 128)               401536    \n",
      "                                                                 \n",
      " dropout_2 (Dropout)         (None, 128)               0         \n",
      "                                                                 \n",
      " dense_1 (Dense)             (None, 10)                1290      \n",
      "                                                                 \n",
      "=================================================================\n",
      "Total params: 421,642\n",
      "Trainable params: 421,642\n",
      "Non-trainable params: 0\n",
      "_________________________________________________________________\n"
     ]
    }
   ],
   "source": [
    "# create model without padding in cnn layer\n",
    "model = Sequential()\n",
    "model.add(ZeroPadding2D(padding=(1, 1), input_shape=(28, 28, 1)))\n",
    "model.add(Conv2D(32, 3, activation='relu'))\n",
    "model.add(Dropout(0.2)) # to prevent overfitting\n",
    "model.add(MaxPool2D(pool_size=2, strides=2))\n",
    "model.add(ZeroPadding2D(padding=(1, 1)))\n",
    "model.add(Conv2D(64, 3, activation='relu'))\n",
    "model.add(MaxPool2D(pool_size=2, strides=2))\n",
    "model.add(Dropout(0.2)) # to prevent overfitting\n",
    "model.add(Flatten())\n",
    "model.add(Dense(128, activation='relu'))\n",
    "model.add(Dropout(0.5)) # to prevent overfitting\n",
    "model.add(Dense(10, activation='softmax'))\n",
    "model.summary()"
   ]
  },
  {
   "cell_type": "code",
   "execution_count": 9,
   "id": "5633bd62",
   "metadata": {},
   "outputs": [],
   "source": [
    "model.compile(optimizer='adam',\n",
    "             loss='categorical_crossentropy',\n",
    "             metrics=['accuracy'])"
   ]
  },
  {
   "cell_type": "code",
   "execution_count": 10,
   "id": "533ff6f3",
   "metadata": {},
   "outputs": [
    {
     "name": "stdout",
     "output_type": "stream",
     "text": [
      "Epoch 1/10\n",
      "200/200 [==============================] - 137s 675ms/step - loss: 0.6638 - accuracy: 0.7579 - val_loss: 0.4300 - val_accuracy: 0.8483\n",
      "Epoch 2/10\n",
      "200/200 [==============================] - 125s 627ms/step - loss: 0.4194 - accuracy: 0.8522 - val_loss: 0.3584 - val_accuracy: 0.8701\n",
      "Epoch 3/10\n",
      "200/200 [==============================] - 124s 620ms/step - loss: 0.3628 - accuracy: 0.8701 - val_loss: 0.3278 - val_accuracy: 0.8819\n",
      "Epoch 4/10\n",
      "200/200 [==============================] - 120s 601ms/step - loss: 0.3297 - accuracy: 0.8808 - val_loss: 0.3066 - val_accuracy: 0.8893\n",
      "Epoch 5/10\n",
      "200/200 [==============================] - 126s 628ms/step - loss: 0.3096 - accuracy: 0.8886 - val_loss: 0.2836 - val_accuracy: 0.8981\n",
      "Epoch 6/10\n",
      "200/200 [==============================] - 128s 638ms/step - loss: 0.2896 - accuracy: 0.8957 - val_loss: 0.2719 - val_accuracy: 0.9000\n",
      "Epoch 7/10\n",
      "200/200 [==============================] - 122s 608ms/step - loss: 0.2785 - accuracy: 0.8975 - val_loss: 0.2648 - val_accuracy: 0.9028\n",
      "Epoch 8/10\n",
      "200/200 [==============================] - 124s 619ms/step - loss: 0.2681 - accuracy: 0.9035 - val_loss: 0.2569 - val_accuracy: 0.9074\n",
      "Epoch 9/10\n",
      "200/200 [==============================] - 127s 636ms/step - loss: 0.2549 - accuracy: 0.9064 - val_loss: 0.2501 - val_accuracy: 0.9100\n",
      "Epoch 10/10\n",
      "200/200 [==============================] - 126s 630ms/step - loss: 0.2455 - accuracy: 0.9105 - val_loss: 0.2434 - val_accuracy: 0.9112\n"
     ]
    }
   ],
   "source": [
    "history = model.fit(train_images, train_labels, batch_size=300, epochs=10, validation_data=(test_images, test_labels))"
   ]
  },
  {
   "cell_type": "code",
   "execution_count": 13,
   "id": "2415b631",
   "metadata": {},
   "outputs": [
    {
     "data": {
      "text/plain": [
       "[<matplotlib.lines.Line2D at 0x1dc02119040>]"
      ]
     },
     "execution_count": 13,
     "metadata": {},
     "output_type": "execute_result"
    },
    {
     "data": {
      "image/png": "[encoded data removed]",
      "text/plain": [
       "<Figure size 640x480 with 1 Axes>"
      ]
     },
     "metadata": {},
     "output_type": "display_data"
    }
   ],
   "source": [
    "plt.plot(history.history['loss'], label='Loss Of Train Data', color='red')\n",
    "plt.plot(history.history['val_loss'], label='Loss Of Test Data', color='blue')"
   ]
  },
  {
   "cell_type": "code",
   "execution_count": 14,
   "id": "4d52918e",
   "metadata": {},
   "outputs": [
    {
     "data": {
      "text/plain": [
       "[<matplotlib.lines.Line2D at 0x1dc021810a0>]"
      ]
     },
     "execution_count": 14,
     "metadata": {},
     "output_type": "execute_result"
    },
    {
     "data": {
      "image/png": "[encoded data removed]",
      "text/plain": [
       "<Figure size 640x480 with 1 Axes>"
      ]
     },
     "metadata": {},
     "output_type": "display_data"
    }
   ],
   "source": [
    "plt.plot(history.history['accuracy'], label='Accuracy Of Train Data', color='red')\n",
    "plt.plot(history.history['val_accuracy'], label='Accuracy Of Test Data', color='blue')"
   ]
  }
 ],
 "metadata": {
  "kernelspec": {
   "display_name": "Python 3 (ipykernel)",
   "language": "python",
   "name": "python3"
  },
  "language_info": {
   "codemirror_mode": {
    "name": "ipython",
    "version": 3
   },
   "file_extension": ".py",
   "mimetype": "text/x-python",
   "name": "python",
   "nbconvert_exporter": "python",
   "pygments_lexer": "ipython3",
   "version": "3.9.13"
  }
 },
 "nbformat": 4,
 "nbformat_minor": 5
}
