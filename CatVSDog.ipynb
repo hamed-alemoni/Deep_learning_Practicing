{
 "cells": [
  {
   "cell_type": "code",
   "execution_count": null,
   "id": "985939f5",
   "metadata": {},
   "outputs": [],
   "source": [
    "from tensorflow.keras.utils import to_categorical\n",
    "from tensorflow.keras.models import Sequential\n",
    "from tensorflow.keras.layers import Conv2D, MaxPool2D, Dense, Flatten\n",
    "from tensorflow.keras.optimizers import Adam\n",
    "from tensorflow.keras.preprocessing.image import ImageDataGenerator"
   ]
  },
  {
   "cell_type": "code",
   "execution_count": null,
   "id": "caf297cf",
   "metadata": {},
   "outputs": [],
   "source": [
    "data_generator = ImageDataGenerator(\n",
    "    rescale=1.0/255.0,\n",
    "    zoom_range=0.4,\n",
    "    horizontal_flip=True,\n",
    "    vertical_flip=True,\n",
    "    rotation_range=50,\n",
    "    height_shift_range=0.3,\n",
    "    width_shift_range=0.3,\n",
    "    shear_range=0.4,\n",
    "    fill_mode='nearest'\n",
    ")\n",
    "train_data = data_generator.flow_from_directory('PetImagesTrain/', class_mode='binary', batch_size=50, target_size=(200, 200))"
   ]
  },
  {
   "cell_type": "markdown",
   "id": "ce690993",
   "metadata": {},
   "source": [
    "Make PetImagesTrain folder which contains two another folders with name Cat and Dog and put your train data on there."
   ]
  },
  {
   "cell_type": "code",
   "execution_count": null,
   "id": "9db1bbbd",
   "metadata": {},
   "outputs": [],
   "source": [
    "test_data = data_generator.flow_from_directory('PetImagesTest/', class_mode='binary', batch_size=50, target_size=(200, 200))"
   ]
  },
  {
   "cell_type": "markdown",
   "id": "dab95f83",
   "metadata": {},
   "source": [
    "Make PetImagesTrain folder which contains two another folders with name Cat and Dog and put your test data on there."
   ]
  },
  {
   "cell_type": "code",
   "execution_count": null,
   "id": "733aee02",
   "metadata": {},
   "outputs": [],
   "source": [
    "model = Sequential()\n",
    "model.add(Conv2D(32, (3, 3), padding='same', input_shape=(200, 200, 3)))\n",
    "model.add(MaxPool2D((2, 2)))\n",
    "model.add(Flatten())\n",
    "model.add(Dense(1, activation='sigmoid'))"
   ]
  },
  {
   "cell_type": "code",
   "execution_count": null,
   "id": "a8b7d07a",
   "metadata": {},
   "outputs": [],
   "source": [
    "model.summary()"
   ]
  },
  {
   "cell_type": "code",
   "execution_count": null,
   "id": "1c31da7d",
   "metadata": {},
   "outputs": [],
   "source": [
    "model.compile(optimizer=Adam(),\n",
    "             loss='binary_crossentropy',\n",
    "             metrics=['accuracy'])"
   ]
  },
  {
   "cell_type": "code",
   "execution_count": null,
   "id": "0770d36b",
   "metadata": {},
   "outputs": [],
   "source": [
    "# cause the data is in harddisk and it is not in ram we use generators\n",
    "histoty = model.fit(train_data, steps_per_epoch=len(train_data), validation_data=test_data, validation_steps=len(test_data), epochs=10)"
   ]
  },
  {
   "cell_type": "code",
   "execution_count": null,
   "id": "e23a6770",
   "metadata": {},
   "outputs": [],
   "source": [
    "import matplotlib.pyplot as plt\n",
    "plt.plot(histoty.history['accuracy'], color='green')\n",
    "plt.plot(histoty.history['val_accuracy'], color='blue')"
   ]
  },
  {
   "cell_type": "code",
   "execution_count": null,
   "id": "ab62eb63",
   "metadata": {},
   "outputs": [],
   "source": [
    "plt.plot(histoty.history['val_accuracy'], color='blue')"
   ]
  },
  {
   "cell_type": "code",
   "execution_count": null,
   "id": "aefaf616",
   "metadata": {},
   "outputs": [],
   "source": [
    "model.save('catvsdog.h5')"
   ]
  },
  {
   "cell_type": "markdown",
   "id": "b3c8172c",
   "metadata": {},
   "source": [
    "You can use 'kagglecatsanddogs_5340' dataset to train and test the model its accuracy is not very high but you can improve it by add droput or add more and complicated layers, etc\n"
   ]
  }
 ],
 "metadata": {
  "kernelspec": {
   "display_name": "Python 3 (ipykernel)",
   "language": "python",
   "name": "python3"
  },
  "language_info": {
   "codemirror_mode": {
    "name": "ipython",
    "version": 3
   },
   "file_extension": ".py",
   "mimetype": "text/x-python",
   "name": "python",
   "nbconvert_exporter": "python",
   "pygments_lexer": "ipython3",
   "version": "3.9.13"
  }
 },
 "nbformat": 4,
 "nbformat_minor": 5
}
