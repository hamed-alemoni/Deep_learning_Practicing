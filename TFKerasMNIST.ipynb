{
 "cells": [
  {
   "cell_type": "code",
   "execution_count": 1,
   "id": "3bd6cb0a",
   "metadata": {},
   "outputs": [],
   "source": [
    "import tensorflow as tf"
   ]
  },
  {
   "cell_type": "code",
   "execution_count": 2,
   "id": "ffb35f11",
   "metadata": {},
   "outputs": [],
   "source": [
    "mnist = tf.keras.datasets.mnist\n",
    "(x_train, y_train), (x_test, y_test) = mnist.load_data()"
   ]
  },
  {
   "cell_type": "code",
   "execution_count": 3,
   "id": "daff4095",
   "metadata": {},
   "outputs": [],
   "source": [
    "# normalize the data\n",
    "x_train = x_train.reshape(60000,28,28,1).astype('float32')\n",
    "x_test = x_test.reshape(10000,28,28,1).astype('float32')\n",
    "x_train = x_train / 255.0\n",
    "x_test = x_test / 255.0"
   ]
  },
  {
   "cell_type": "code",
   "execution_count": 4,
   "id": "eb634a35",
   "metadata": {},
   "outputs": [],
   "source": [
    "# normalize the labels\n",
    "number_class=10\n",
    "y_train = tf.keras.utils.to_categorical(y_train)\n",
    "y_test = tf.keras.utils.to_categorical(y_test)"
   ]
  },
  {
   "cell_type": "code",
   "execution_count": 6,
   "id": "70fdee5f",
   "metadata": {},
   "outputs": [],
   "source": [
    "# create the model\n",
    "model = tf.keras.models.Sequential()\n",
    "model.add(tf.keras.layers.Flatten(input_shape=(28, 28, 1)))\n",
    "model.add(tf.keras.layers.Dense(100, activation='relu'))\n",
    "model.add(tf.keras.layers.Dense(10, activation='softmax'))"
   ]
  },
  {
   "cell_type": "code",
   "execution_count": 7,
   "id": "c860c77c",
   "metadata": {},
   "outputs": [],
   "source": [
    "# compile model\n",
    "model.compile(optimizer='adam',\n",
    "              loss='categorical_crossentropy',\n",
    "              metrics=['accuracy'])"
   ]
  },
  {
   "cell_type": "code",
   "execution_count": 8,
   "id": "be26062c",
   "metadata": {},
   "outputs": [
    {
     "name": "stdout",
     "output_type": "stream",
     "text": [
      "Epoch 1/10\n",
      "235/235 [==============================] - 5s 14ms/step - loss: 0.4781 - accuracy: 0.8706 - val_loss: 0.2488 - val_accuracy: 0.9288\n",
      "Epoch 2/10\n",
      "235/235 [==============================] - 2s 10ms/step - loss: 0.2143 - accuracy: 0.9404 - val_loss: 0.1822 - val_accuracy: 0.9475\n",
      "Epoch 3/10\n",
      "235/235 [==============================] - 2s 10ms/step - loss: 0.1622 - accuracy: 0.9537 - val_loss: 0.1488 - val_accuracy: 0.9546\n",
      "Epoch 4/10\n",
      "235/235 [==============================] - 2s 10ms/step - loss: 0.1315 - accuracy: 0.9625 - val_loss: 0.1273 - val_accuracy: 0.9641\n",
      "Epoch 5/10\n",
      "235/235 [==============================] - 2s 10ms/step - loss: 0.1102 - accuracy: 0.9690 - val_loss: 0.1144 - val_accuracy: 0.9644\n",
      "Epoch 6/10\n",
      "235/235 [==============================] - 2s 10ms/step - loss: 0.0953 - accuracy: 0.9732 - val_loss: 0.1029 - val_accuracy: 0.9678\n",
      "Epoch 7/10\n",
      "235/235 [==============================] - 2s 11ms/step - loss: 0.0833 - accuracy: 0.9770 - val_loss: 0.1006 - val_accuracy: 0.9693\n",
      "Epoch 8/10\n",
      "235/235 [==============================] - 3s 11ms/step - loss: 0.0730 - accuracy: 0.9795 - val_loss: 0.0937 - val_accuracy: 0.9723\n",
      "Epoch 9/10\n",
      "235/235 [==============================] - 3s 11ms/step - loss: 0.0649 - accuracy: 0.9819 - val_loss: 0.0956 - val_accuracy: 0.9690\n",
      "Epoch 10/10\n",
      "235/235 [==============================] - 3s 11ms/step - loss: 0.0576 - accuracy: 0.9837 - val_loss: 0.0887 - val_accuracy: 0.9726\n"
     ]
    },
    {
     "data": {
      "text/plain": [
       "<keras.callbacks.History at 0x12b4035b3d0>"
      ]
     },
     "execution_count": 8,
     "metadata": {},
     "output_type": "execute_result"
    }
   ],
   "source": [
    "model.fit(x_train, y_train, epochs=10, batch_size=256, validation_data=(x_test, y_test), verbose=1)"
   ]
  },
  {
   "cell_type": "code",
   "execution_count": 14,
   "id": "63b28adb",
   "metadata": {},
   "outputs": [
    {
     "data": {
      "text/plain": [
       "array([0., 0., 0., 0., 0., 0., 0., 1., 0., 0.], dtype=float32)"
      ]
     },
     "execution_count": 14,
     "metadata": {},
     "output_type": "execute_result"
    }
   ],
   "source": [
    "y_test[0]"
   ]
  },
  {
   "cell_type": "code",
   "execution_count": 13,
   "id": "58f88c39",
   "metadata": {},
   "outputs": [
    {
     "name": "stdout",
     "output_type": "stream",
     "text": [
      "313/313 [==============================] - 1s 3ms/step\n"
     ]
    },
    {
     "data": {
      "text/plain": [
       "array([1.5965064e-06, 6.2036953e-08, 5.1857627e-05, 3.3376485e-03,\n",
       "       6.2213239e-09, 3.8206631e-06, 1.1935011e-11, 9.9659890e-01,\n",
       "       3.1148452e-06, 2.9263856e-06], dtype=float32)"
      ]
     },
     "execution_count": 13,
     "metadata": {},
     "output_type": "execute_result"
    }
   ],
   "source": [
    "model.predict(x_test)[0]"
   ]
  },
  {
   "cell_type": "markdown",
   "id": "4e207cde",
   "metadata": {},
   "source": [
    "above we train a model with mnist dataset and in the last two blocks we test the model and as you can see the model predict correct"
   ]
  }
 ],
 "metadata": {
  "kernelspec": {
   "display_name": "Python 3 (ipykernel)",
   "language": "python",
   "name": "python3"
  },
  "language_info": {
   "codemirror_mode": {
    "name": "ipython",
    "version": 3
   },
   "file_extension": ".py",
   "mimetype": "text/x-python",
   "name": "python",
   "nbconvert_exporter": "python",
   "pygments_lexer": "ipython3",
   "version": "3.9.13"
  }
 },
 "nbformat": 4,
 "nbformat_minor": 5
}
