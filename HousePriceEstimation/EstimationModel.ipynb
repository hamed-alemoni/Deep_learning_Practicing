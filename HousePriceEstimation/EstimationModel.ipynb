{
 "cells": [
  {
   "cell_type": "code",
   "execution_count": 1,
   "id": "117c2d57",
   "metadata": {},
   "outputs": [],
   "source": [
    "import cv2\n",
    "import numpy as np\n",
    "import pandas as pd\n",
    "import os\n",
    "from sklearn.preprocessing import StandardScaler, LabelBinarizer\n",
    "from sklearn.model_selection import train_test_split\n",
    "import glob\n",
    "import matplotlib.pyplot as plt"
   ]
  },
  {
   "cell_type": "code",
   "execution_count": 2,
   "id": "35ccd621",
   "metadata": {},
   "outputs": [],
   "source": [
    "data = pd.read_csv('HousesDataset/HousesInfo.txt', header=None, sep=' ', names=['bedrooms', 'bathrooms', 'area', 'zipcode', 'price'])"
   ]
  },
  {
   "cell_type": "code",
   "execution_count": 3,
   "id": "a35608f7",
   "metadata": {
    "scrolled": true
   },
   "outputs": [
    {
     "data": {
      "text/html": [
       "<div>\n",
       "<style scoped>\n",
       "    .dataframe tbody tr th:only-of-type {\n",
       "        vertical-align: middle;\n",
       "    }\n",
       "\n",
       "    .dataframe tbody tr th {\n",
       "        vertical-align: top;\n",
       "    }\n",
       "\n",
       "    .dataframe thead th {\n",
       "        text-align: right;\n",
       "    }\n",
       "</style>\n",
       "<table border=\"1\" class=\"dataframe\">\n",
       "  <thead>\n",
       "    <tr style=\"text-align: right;\">\n",
       "      <th></th>\n",
       "      <th>bedrooms</th>\n",
       "      <th>bathrooms</th>\n",
       "      <th>area</th>\n",
       "      <th>zipcode</th>\n",
       "      <th>price</th>\n",
       "    </tr>\n",
       "  </thead>\n",
       "  <tbody>\n",
       "    <tr>\n",
       "      <th>0</th>\n",
       "      <td>4</td>\n",
       "      <td>4.0</td>\n",
       "      <td>4053</td>\n",
       "      <td>85255</td>\n",
       "      <td>869500</td>\n",
       "    </tr>\n",
       "    <tr>\n",
       "      <th>1</th>\n",
       "      <td>4</td>\n",
       "      <td>3.0</td>\n",
       "      <td>3343</td>\n",
       "      <td>36372</td>\n",
       "      <td>865200</td>\n",
       "    </tr>\n",
       "    <tr>\n",
       "      <th>2</th>\n",
       "      <td>3</td>\n",
       "      <td>4.0</td>\n",
       "      <td>3923</td>\n",
       "      <td>85266</td>\n",
       "      <td>889000</td>\n",
       "    </tr>\n",
       "    <tr>\n",
       "      <th>3</th>\n",
       "      <td>5</td>\n",
       "      <td>5.0</td>\n",
       "      <td>4022</td>\n",
       "      <td>85262</td>\n",
       "      <td>910000</td>\n",
       "    </tr>\n",
       "    <tr>\n",
       "      <th>4</th>\n",
       "      <td>3</td>\n",
       "      <td>4.0</td>\n",
       "      <td>4116</td>\n",
       "      <td>85266</td>\n",
       "      <td>971226</td>\n",
       "    </tr>\n",
       "    <tr>\n",
       "      <th>...</th>\n",
       "      <td>...</td>\n",
       "      <td>...</td>\n",
       "      <td>...</td>\n",
       "      <td>...</td>\n",
       "      <td>...</td>\n",
       "    </tr>\n",
       "    <tr>\n",
       "      <th>530</th>\n",
       "      <td>5</td>\n",
       "      <td>2.0</td>\n",
       "      <td>2066</td>\n",
       "      <td>94531</td>\n",
       "      <td>399900</td>\n",
       "    </tr>\n",
       "    <tr>\n",
       "      <th>531</th>\n",
       "      <td>4</td>\n",
       "      <td>3.5</td>\n",
       "      <td>9536</td>\n",
       "      <td>94531</td>\n",
       "      <td>460000</td>\n",
       "    </tr>\n",
       "    <tr>\n",
       "      <th>532</th>\n",
       "      <td>3</td>\n",
       "      <td>2.0</td>\n",
       "      <td>2014</td>\n",
       "      <td>94531</td>\n",
       "      <td>407000</td>\n",
       "    </tr>\n",
       "    <tr>\n",
       "      <th>533</th>\n",
       "      <td>4</td>\n",
       "      <td>3.0</td>\n",
       "      <td>2312</td>\n",
       "      <td>94531</td>\n",
       "      <td>419000</td>\n",
       "    </tr>\n",
       "    <tr>\n",
       "      <th>534</th>\n",
       "      <td>5</td>\n",
       "      <td>3.0</td>\n",
       "      <td>3796</td>\n",
       "      <td>94531</td>\n",
       "      <td>615000</td>\n",
       "    </tr>\n",
       "  </tbody>\n",
       "</table>\n",
       "<p>535 rows × 5 columns</p>\n",
       "</div>"
      ],
      "text/plain": [
       "     bedrooms  bathrooms  area  zipcode   price\n",
       "0           4        4.0  4053    85255  869500\n",
       "1           4        3.0  3343    36372  865200\n",
       "2           3        4.0  3923    85266  889000\n",
       "3           5        5.0  4022    85262  910000\n",
       "4           3        4.0  4116    85266  971226\n",
       "..        ...        ...   ...      ...     ...\n",
       "530         5        2.0  2066    94531  399900\n",
       "531         4        3.5  9536    94531  460000\n",
       "532         3        2.0  2014    94531  407000\n",
       "533         4        3.0  2312    94531  419000\n",
       "534         5        3.0  3796    94531  615000\n",
       "\n",
       "[535 rows x 5 columns]"
      ]
     },
     "execution_count": 3,
     "metadata": {},
     "output_type": "execute_result"
    }
   ],
   "source": [
    "data"
   ]
  },
  {
   "cell_type": "code",
   "execution_count": 4,
   "id": "4941877c",
   "metadata": {},
   "outputs": [],
   "source": [
    "images = []\n",
    "for i in data.index.values:\n",
    "    basepath = os.path.sep.join(['HousesDataset', f\"{i+1}_*\"])\n",
    "    images_path = sorted(list(glob.glob(basepath)))\n",
    "    input_images = []\n",
    "    for image_path in images_path:\n",
    "        image = cv2.resize(cv2.imread(image_path), (32, 32))\n",
    "        input_images.append(image)\n",
    "    output_images = np.zeros((64, 64, 3), dtype='uint8')\n",
    "    output_images[0:32, 0:32] = input_images[0]\n",
    "    output_images[0:32, 32:64] = input_images[1]\n",
    "    output_images[32:64, 32:64] = input_images[2]\n",
    "    output_images[32:64, 0:32] = input_images[3]\n",
    "    images.append(output_images)"
   ]
  },
  {
   "cell_type": "code",
   "execution_count": 5,
   "id": "943d3add",
   "metadata": {},
   "outputs": [
    {
     "data": {
      "text/plain": [
       "(535, 64, 64, 3)"
      ]
     },
     "execution_count": 5,
     "metadata": {},
     "output_type": "execute_result"
    }
   ],
   "source": [
    "images = np.array(images)\n",
    "images.shape"
   ]
  },
  {
   "cell_type": "code",
   "execution_count": 6,
   "id": "aa4a80e8",
   "metadata": {},
   "outputs": [
    {
     "data": {
      "text/plain": [
       "<matplotlib.image.AxesImage at 0x17ea42773d0>"
      ]
     },
     "execution_count": 6,
     "metadata": {},
     "output_type": "execute_result"
    },
    {
     "data": {
      "image/png": "[encoded data removed]",
      "text/plain": [
       "<Figure size 640x480 with 1 Axes>"
      ]
     },
     "metadata": {},
     "output_type": "display_data"
    }
   ],
   "source": [
    "plt.imshow(images[250][..., ::-1])"
   ]
  },
  {
   "cell_type": "code",
   "execution_count": 7,
   "id": "65bb44a3",
   "metadata": {},
   "outputs": [],
   "source": [
    "X_train, X_test, IX_train, IX_test = train_test_split(data, images, random_state=532)"
   ]
  },
  {
   "cell_type": "code",
   "execution_count": 8,
   "id": "4fed9041",
   "metadata": {},
   "outputs": [],
   "source": [
    "# normalize\n",
    "max_price = X_train['price'].max()\n",
    "y_train = X_train['price'] / max_price\n",
    "y_test = X_test['price'] / max_price"
   ]
  },
  {
   "cell_type": "code",
   "execution_count": 9,
   "id": "31a23868",
   "metadata": {},
   "outputs": [],
   "source": [
    "from tensorflow.keras.models import Model, Sequential\n",
    "from tensorflow.keras.layers import concatenate ,Conv2D, MaxPool2D, Activation, Dense, Flatten, BatchNormalization, Input, Dropout"
   ]
  },
  {
   "cell_type": "code",
   "execution_count": 10,
   "id": "150dc6dd",
   "metadata": {},
   "outputs": [],
   "source": [
    "input_data = Input(shape=(64, 64, 3))\n",
    "conv1 = Conv2D(16, (3, 3), padding='same')(input_data)\n",
    "batchnorm1 = BatchNormalization(axis=-1)(conv1)\n",
    "max_pool1 = MaxPool2D(pool_size=(2, 2))(batchnorm1)\n",
    "conv2 = Conv2D(32, (3, 3), padding='same')(max_pool1)\n",
    "batchnorm2 = BatchNormalization(axis=-1)(conv2)\n",
    "max_pool2 = MaxPool2D(pool_size=(2, 2))(batchnorm2)\n",
    "conv3 = Conv2D(64, (3, 3), padding='same')(max_pool2)\n",
    "batchnorm3 = BatchNormalization(axis=-1)(conv3)\n",
    "max_pool3 = MaxPool2D(pool_size=(2, 2))(batchnorm3)\n",
    "flatten = Flatten()(max_pool3)\n",
    "dense1 = Dense(32, activation='relu')(flatten)\n",
    "batchnorm4 = BatchNormalization(axis=-1)(dense1)\n",
    "dropout = Dropout(0.5)(batchnorm4)\n",
    "dense2 = Dense(16, activation='relu')(dropout)"
   ]
  },
  {
   "cell_type": "code",
   "execution_count": 11,
   "id": "a832072d",
   "metadata": {},
   "outputs": [],
   "source": [
    "image_model = Model(input_data, dense2)"
   ]
  },
  {
   "cell_type": "code",
   "execution_count": 12,
   "id": "be1d6c71",
   "metadata": {},
   "outputs": [
    {
     "name": "stdout",
     "output_type": "stream",
     "text": [
      "Model: \"model\"\n",
      "_________________________________________________________________\n",
      " Layer (type)                Output Shape              Param #   \n",
      "=================================================================\n",
      " input_1 (InputLayer)        [(None, 64, 64, 3)]       0         \n",
      "                                                                 \n",
      " conv2d (Conv2D)             (None, 64, 64, 16)        448       \n",
      "                                                                 \n",
      " batch_normalization (BatchN  (None, 64, 64, 16)       64        \n",
      " ormalization)                                                   \n",
      "                                                                 \n",
      " max_pooling2d (MaxPooling2D  (None, 32, 32, 16)       0         \n",
      " )                                                               \n",
      "                                                                 \n",
      " conv2d_1 (Conv2D)           (None, 32, 32, 32)        4640      \n",
      "                                                                 \n",
      " batch_normalization_1 (Batc  (None, 32, 32, 32)       128       \n",
      " hNormalization)                                                 \n",
      "                                                                 \n",
      " max_pooling2d_1 (MaxPooling  (None, 16, 16, 32)       0         \n",
      " 2D)                                                             \n",
      "                                                                 \n",
      " conv2d_2 (Conv2D)           (None, 16, 16, 64)        18496     \n",
      "                                                                 \n",
      " batch_normalization_2 (Batc  (None, 16, 16, 64)       256       \n",
      " hNormalization)                                                 \n",
      "                                                                 \n",
      " max_pooling2d_2 (MaxPooling  (None, 8, 8, 64)         0         \n",
      " 2D)                                                             \n",
      "                                                                 \n",
      " flatten (Flatten)           (None, 4096)              0         \n",
      "                                                                 \n",
      " dense (Dense)               (None, 32)                131104    \n",
      "                                                                 \n",
      " batch_normalization_3 (Batc  (None, 32)               128       \n",
      " hNormalization)                                                 \n",
      "                                                                 \n",
      " dropout (Dropout)           (None, 32)                0         \n",
      "                                                                 \n",
      " dense_1 (Dense)             (None, 16)                528       \n",
      "                                                                 \n",
      "=================================================================\n",
      "Total params: 155,792\n",
      "Trainable params: 155,504\n",
      "Non-trainable params: 288\n",
      "_________________________________________________________________\n"
     ]
    }
   ],
   "source": [
    "image_model.summary()"
   ]
  },
  {
   "cell_type": "code",
   "execution_count": 13,
   "id": "eeb35b2b",
   "metadata": {},
   "outputs": [],
   "source": [
    "standard_scalar = StandardScaler()\n",
    "csv_data_train = standard_scalar.fit_transform(X_train[['bedrooms', 'bathrooms', 'area']])\n",
    "csv_data_test = standard_scalar.transform(X_test[['bedrooms', 'bathrooms', 'area']])"
   ]
  },
  {
   "cell_type": "code",
   "execution_count": 14,
   "id": "5f80e739",
   "metadata": {},
   "outputs": [],
   "source": [
    "# one hotting encdoe\n",
    "label_binarizer = LabelBinarizer()\n",
    "label_binarizer.fit(data['zipcode'])\n",
    "csv_data_train_zipcode = label_binarizer.transform(X_train['zipcode'])\n",
    "csv_data_test_zipcode = label_binarizer.transform(X_test['zipcode'])"
   ]
  },
  {
   "cell_type": "code",
   "execution_count": 15,
   "id": "e3aebac4",
   "metadata": {},
   "outputs": [],
   "source": [
    "csv_data_train = np.hstack([csv_data_train, csv_data_train_zipcode])\n",
    "csv_data_test = np.hstack([csv_data_test, csv_data_test_zipcode])"
   ]
  },
  {
   "cell_type": "code",
   "execution_count": 16,
   "id": "8e1e8bc9",
   "metadata": {},
   "outputs": [
    {
     "data": {
      "text/plain": [
       "array([[-1.18233374, -0.66393189, -0.53456569, ...,  0.        ,\n",
       "         0.        ,  0.        ],\n",
       "       [-1.18233374, -1.67049782, -0.99902288, ...,  0.        ,\n",
       "         0.        ,  0.        ],\n",
       "       [-1.18233374, -0.66393189, -0.96479972, ...,  0.        ,\n",
       "         0.        ,  0.        ],\n",
       "       ...,\n",
       "       [ 0.54172382,  0.34263404,  0.51250006, ...,  0.        ,\n",
       "         0.        ,  0.        ],\n",
       "       [ 0.54172382,  1.85248294,  1.38682034, ...,  0.        ,\n",
       "         0.        ,  0.        ],\n",
       "       [ 1.4037526 ,  2.3557659 ,  2.03135654, ...,  0.        ,\n",
       "         0.        ,  0.        ]])"
      ]
     },
     "execution_count": 16,
     "metadata": {},
     "output_type": "execute_result"
    }
   ],
   "source": [
    "csv_data_train"
   ]
  },
  {
   "cell_type": "code",
   "execution_count": 17,
   "id": "9c76eb38",
   "metadata": {},
   "outputs": [
    {
     "data": {
      "text/plain": [
       "array([-0.32030496, -0.66393189, -0.6991628 ,  0.        ,  0.        ,\n",
       "        0.        ,  0.        ,  0.        ,  0.        ,  0.        ,\n",
       "        0.        ,  0.        ,  0.        ,  0.        ,  0.        ,\n",
       "        0.        ,  0.        ,  0.        ,  0.        ,  0.        ,\n",
       "        0.        ,  0.        ,  0.        ,  0.        ,  0.        ,\n",
       "        0.        ,  0.        ,  0.        ,  0.        ,  0.        ,\n",
       "        0.        ,  1.        ,  0.        ,  0.        ,  0.        ,\n",
       "        0.        ,  0.        ,  0.        ,  0.        ,  0.        ,\n",
       "        0.        ,  0.        ,  0.        ,  0.        ,  0.        ,\n",
       "        0.        ,  0.        ,  0.        ,  0.        ,  0.        ,\n",
       "        0.        ,  0.        ])"
      ]
     },
     "execution_count": 17,
     "metadata": {},
     "output_type": "execute_result"
    }
   ],
   "source": [
    "csv_data_train[12]"
   ]
  },
  {
   "cell_type": "code",
   "execution_count": 18,
   "id": "680e8927",
   "metadata": {},
   "outputs": [
    {
     "data": {
      "text/plain": [
       "(401, 52)"
      ]
     },
     "execution_count": 18,
     "metadata": {},
     "output_type": "execute_result"
    }
   ],
   "source": [
    "csv_data_train.shape"
   ]
  },
  {
   "cell_type": "code",
   "execution_count": 19,
   "id": "92db66d3",
   "metadata": {},
   "outputs": [
    {
     "data": {
      "text/plain": [
       "535"
      ]
     },
     "execution_count": 19,
     "metadata": {},
     "output_type": "execute_result"
    }
   ],
   "source": [
    "csv_data_train.shape[0] + csv_data_test.shape[0]"
   ]
  },
  {
   "cell_type": "code",
   "execution_count": 20,
   "id": "826e9c4f",
   "metadata": {},
   "outputs": [],
   "source": [
    "csv_model = Sequential()\n",
    "csv_model.add(Dense(16, activation='relu', input_dim=52))\n",
    "csv_model.add(Dropout(0.5))\n",
    "csv_model.add(Dense(8, activation='relu'))\n",
    "csv_model.add(Dense(4, activation='relu'))"
   ]
  },
  {
   "cell_type": "code",
   "execution_count": 21,
   "id": "70d8a1b5",
   "metadata": {
    "scrolled": true
   },
   "outputs": [
    {
     "name": "stdout",
     "output_type": "stream",
     "text": [
      "Model: \"sequential\"\n",
      "_________________________________________________________________\n",
      " Layer (type)                Output Shape              Param #   \n",
      "=================================================================\n",
      " dense_2 (Dense)             (None, 16)                848       \n",
      "                                                                 \n",
      " dropout_1 (Dropout)         (None, 16)                0         \n",
      "                                                                 \n",
      " dense_3 (Dense)             (None, 8)                 136       \n",
      "                                                                 \n",
      " dense_4 (Dense)             (None, 4)                 36        \n",
      "                                                                 \n",
      "=================================================================\n",
      "Total params: 1,020\n",
      "Trainable params: 1,020\n",
      "Non-trainable params: 0\n",
      "_________________________________________________________________\n"
     ]
    }
   ],
   "source": [
    "csv_model.summary()"
   ]
  },
  {
   "cell_type": "code",
   "execution_count": 22,
   "id": "69233f8f",
   "metadata": {},
   "outputs": [],
   "source": [
    "combined_tensor = concatenate([image_model.output, csv_model.output])"
   ]
  },
  {
   "cell_type": "code",
   "execution_count": 23,
   "id": "d47d8fec",
   "metadata": {},
   "outputs": [],
   "source": [
    "dense_final_1 = Dense(8, activation='relu')(combined_tensor)\n",
    "dense_final_2 = Dense(1, activation='linear')(dense_final_1)\n",
    "final_model = Model(inputs=[csv_model.input, image_model.input], outputs=dense_final_2)"
   ]
  },
  {
   "cell_type": "code",
   "execution_count": 25,
   "id": "c7e89792",
   "metadata": {},
   "outputs": [
    {
     "data": {
      "image/png": "[encoded data removed]",
      "text/plain": [
       "<IPython.core.display.Image object>"
      ]
     },
     "execution_count": 25,
     "metadata": {},
     "output_type": "execute_result"
    }
   ],
   "source": [
    "from tensorflow.keras.utils import plot_model\n",
    "plot_model(final_model, show_shapes=True)"
   ]
  },
  {
   "cell_type": "code",
   "execution_count": 26,
   "id": "169075cb",
   "metadata": {},
   "outputs": [],
   "source": [
    "final_model.compile(optimizer='adam',\n",
    "                   loss='mean_absolute_error',\n",
    "                   metrics=['accuracy'])"
   ]
  },
  {
   "cell_type": "code",
   "execution_count": 27,
   "id": "77fcdeba",
   "metadata": {},
   "outputs": [
    {
     "name": "stdout",
     "output_type": "stream",
     "text": [
      "Epoch 1/100\n",
      "41/41 [==============================] - 7s 87ms/step - loss: 0.7016 - accuracy: 0.0000e+00 - val_loss: 6.5165 - val_accuracy: 0.0000e+00\n",
      "Epoch 2/100\n",
      "41/41 [==============================] - 3s 74ms/step - loss: 0.2597 - accuracy: 0.0000e+00 - val_loss: 0.7616 - val_accuracy: 0.0000e+00\n",
      "Epoch 3/100\n",
      "41/41 [==============================] - 3s 68ms/step - loss: 0.1863 - accuracy: 0.0000e+00 - val_loss: 0.2178 - val_accuracy: 0.0000e+00\n",
      "Epoch 4/100\n",
      "41/41 [==============================] - 3s 68ms/step - loss: 0.1613 - accuracy: 0.0000e+00 - val_loss: 0.1992 - val_accuracy: 0.0000e+00\n",
      "Epoch 5/100\n",
      "41/41 [==============================] - 3s 69ms/step - loss: 0.1445 - accuracy: 0.0000e+00 - val_loss: 0.1142 - val_accuracy: 0.0000e+00\n",
      "Epoch 6/100\n",
      "41/41 [==============================] - 3s 69ms/step - loss: 0.1171 - accuracy: 0.0025 - val_loss: 0.0955 - val_accuracy: 0.0000e+00\n",
      "Epoch 7/100\n",
      "41/41 [==============================] - 3s 69ms/step - loss: 0.1122 - accuracy: 0.0000e+00 - val_loss: 0.0829 - val_accuracy: 0.0000e+00\n",
      "Epoch 8/100\n",
      "41/41 [==============================] - 3s 73ms/step - loss: 0.0946 - accuracy: 0.0000e+00 - val_loss: 0.0786 - val_accuracy: 0.0000e+00\n",
      "Epoch 9/100\n",
      "41/41 [==============================] - 3s 71ms/step - loss: 0.0880 - accuracy: 0.0000e+00 - val_loss: 0.0700 - val_accuracy: 0.0000e+00\n",
      "Epoch 10/100\n",
      "41/41 [==============================] - 3s 70ms/step - loss: 0.0824 - accuracy: 0.0000e+00 - val_loss: 0.0847 - val_accuracy: 0.0000e+00\n",
      "Epoch 11/100\n",
      "41/41 [==============================] - 3s 69ms/step - loss: 0.0784 - accuracy: 0.0000e+00 - val_loss: 0.0723 - val_accuracy: 0.0000e+00\n",
      "Epoch 12/100\n",
      "41/41 [==============================] - 3s 70ms/step - loss: 0.0700 - accuracy: 0.0000e+00 - val_loss: 0.0622 - val_accuracy: 0.0000e+00\n",
      "Epoch 13/100\n",
      "41/41 [==============================] - 3s 70ms/step - loss: 0.0654 - accuracy: 0.0000e+00 - val_loss: 0.0680 - val_accuracy: 0.0000e+00\n",
      "Epoch 14/100\n",
      "41/41 [==============================] - 3s 70ms/step - loss: 0.0668 - accuracy: 0.0000e+00 - val_loss: 0.0569 - val_accuracy: 0.0000e+00\n",
      "Epoch 15/100\n",
      "41/41 [==============================] - 3s 70ms/step - loss: 0.0648 - accuracy: 0.0000e+00 - val_loss: 0.0584 - val_accuracy: 0.0000e+00\n",
      "Epoch 16/100\n",
      "41/41 [==============================] - 3s 70ms/step - loss: 0.0595 - accuracy: 0.0000e+00 - val_loss: 0.0586 - val_accuracy: 0.0000e+00\n",
      "Epoch 17/100\n",
      "41/41 [==============================] - 3s 70ms/step - loss: 0.0576 - accuracy: 0.0000e+00 - val_loss: 0.0600 - val_accuracy: 0.0000e+00\n",
      "Epoch 18/100\n",
      "41/41 [==============================] - 3s 70ms/step - loss: 0.0558 - accuracy: 0.0000e+00 - val_loss: 0.0558 - val_accuracy: 0.0000e+00\n",
      "Epoch 19/100\n",
      "41/41 [==============================] - 3s 78ms/step - loss: 0.0587 - accuracy: 0.0000e+00 - val_loss: 0.0555 - val_accuracy: 0.0000e+00\n",
      "Epoch 20/100\n",
      "41/41 [==============================] - 4s 92ms/step - loss: 0.0540 - accuracy: 0.0000e+00 - val_loss: 0.0450 - val_accuracy: 0.0000e+00\n",
      "Epoch 21/100\n",
      "41/41 [==============================] - 3s 81ms/step - loss: 0.0531 - accuracy: 0.0000e+00 - val_loss: 0.0436 - val_accuracy: 0.0000e+00\n",
      "Epoch 22/100\n",
      "41/41 [==============================] - 3s 71ms/step - loss: 0.0538 - accuracy: 0.0000e+00 - val_loss: 0.0426 - val_accuracy: 0.0000e+00\n",
      "Epoch 23/100\n",
      "41/41 [==============================] - 3s 72ms/step - loss: 0.0521 - accuracy: 0.0000e+00 - val_loss: 0.0452 - val_accuracy: 0.0000e+00\n",
      "Epoch 24/100\n",
      "41/41 [==============================] - 3s 72ms/step - loss: 0.0495 - accuracy: 0.0000e+00 - val_loss: 0.0476 - val_accuracy: 0.0000e+00\n",
      "Epoch 25/100\n",
      "41/41 [==============================] - 3s 72ms/step - loss: 0.0475 - accuracy: 0.0000e+00 - val_loss: 0.0426 - val_accuracy: 0.0000e+00\n",
      "Epoch 26/100\n",
      "41/41 [==============================] - 3s 72ms/step - loss: 0.0460 - accuracy: 0.0000e+00 - val_loss: 0.0420 - val_accuracy: 0.0000e+00\n",
      "Epoch 27/100\n",
      "41/41 [==============================] - 3s 73ms/step - loss: 0.0459 - accuracy: 0.0000e+00 - val_loss: 0.0414 - val_accuracy: 0.0000e+00\n",
      "Epoch 28/100\n",
      "41/41 [==============================] - 3s 72ms/step - loss: 0.0480 - accuracy: 0.0000e+00 - val_loss: 0.0400 - val_accuracy: 0.0000e+00\n",
      "Epoch 29/100\n",
      "41/41 [==============================] - 3s 72ms/step - loss: 0.0461 - accuracy: 0.0000e+00 - val_loss: 0.0433 - val_accuracy: 0.0000e+00\n",
      "Epoch 30/100\n",
      "41/41 [==============================] - 3s 72ms/step - loss: 0.0453 - accuracy: 0.0000e+00 - val_loss: 0.0418 - val_accuracy: 0.0000e+00\n",
      "Epoch 31/100\n",
      "41/41 [==============================] - 3s 72ms/step - loss: 0.0436 - accuracy: 0.0000e+00 - val_loss: 0.0420 - val_accuracy: 0.0000e+00\n",
      "Epoch 32/100\n",
      "41/41 [==============================] - 3s 72ms/step - loss: 0.0435 - accuracy: 0.0000e+00 - val_loss: 0.0415 - val_accuracy: 0.0000e+00\n",
      "Epoch 33/100\n",
      "41/41 [==============================] - 3s 73ms/step - loss: 0.0413 - accuracy: 0.0000e+00 - val_loss: 0.0408 - val_accuracy: 0.0000e+00\n",
      "Epoch 34/100\n",
      "41/41 [==============================] - 3s 76ms/step - loss: 0.0425 - accuracy: 0.0000e+00 - val_loss: 0.0402 - val_accuracy: 0.0000e+00\n",
      "Epoch 35/100\n",
      "41/41 [==============================] - 3s 74ms/step - loss: 0.0425 - accuracy: 0.0000e+00 - val_loss: 0.0402 - val_accuracy: 0.0000e+00\n",
      "Epoch 36/100\n",
      "41/41 [==============================] - 3s 74ms/step - loss: 0.0409 - accuracy: 0.0000e+00 - val_loss: 0.0408 - val_accuracy: 0.0000e+00\n",
      "Epoch 37/100\n",
      "41/41 [==============================] - 3s 75ms/step - loss: 0.0410 - accuracy: 0.0000e+00 - val_loss: 0.0392 - val_accuracy: 0.0000e+00\n",
      "Epoch 38/100\n",
      "41/41 [==============================] - 3s 72ms/step - loss: 0.0389 - accuracy: 0.0000e+00 - val_loss: 0.0367 - val_accuracy: 0.0000e+00\n",
      "Epoch 39/100\n",
      "41/41 [==============================] - 3s 73ms/step - loss: 0.0373 - accuracy: 0.0000e+00 - val_loss: 0.0367 - val_accuracy: 0.0000e+00\n",
      "Epoch 40/100\n",
      "41/41 [==============================] - 3s 72ms/step - loss: 0.0369 - accuracy: 0.0000e+00 - val_loss: 0.0366 - val_accuracy: 0.0000e+00\n",
      "Epoch 41/100\n",
      "41/41 [==============================] - 3s 72ms/step - loss: 0.0373 - accuracy: 0.0000e+00 - val_loss: 0.0364 - val_accuracy: 0.0000e+00\n",
      "Epoch 42/100\n",
      "41/41 [==============================] - 4s 94ms/step - loss: 0.0361 - accuracy: 0.0025 - val_loss: 0.0364 - val_accuracy: 0.0000e+00\n",
      "Epoch 43/100\n",
      "41/41 [==============================] - 4s 98ms/step - loss: 0.0365 - accuracy: 0.0000e+00 - val_loss: 0.0369 - val_accuracy: 0.0000e+00\n",
      "Epoch 44/100\n",
      "41/41 [==============================] - 4s 96ms/step - loss: 0.0363 - accuracy: 0.0000e+00 - val_loss: 0.0358 - val_accuracy: 0.0000e+00\n",
      "Epoch 45/100\n",
      "41/41 [==============================] - 4s 87ms/step - loss: 0.0350 - accuracy: 0.0000e+00 - val_loss: 0.0356 - val_accuracy: 0.0000e+00\n",
      "Epoch 46/100\n",
      "41/41 [==============================] - 3s 85ms/step - loss: 0.0357 - accuracy: 0.0000e+00 - val_loss: 0.0377 - val_accuracy: 0.0000e+00\n",
      "Epoch 47/100\n",
      "41/41 [==============================] - 4s 92ms/step - loss: 0.0333 - accuracy: 0.0000e+00 - val_loss: 0.0346 - val_accuracy: 0.0000e+00\n",
      "Epoch 48/100\n",
      "41/41 [==============================] - 4s 86ms/step - loss: 0.0327 - accuracy: 0.0000e+00 - val_loss: 0.0415 - val_accuracy: 0.0000e+00\n",
      "Epoch 49/100\n",
      "41/41 [==============================] - 3s 84ms/step - loss: 0.0330 - accuracy: 0.0000e+00 - val_loss: 0.0322 - val_accuracy: 0.0000e+00\n",
      "Epoch 50/100\n",
      "41/41 [==============================] - 3s 84ms/step - loss: 0.0344 - accuracy: 0.0000e+00 - val_loss: 0.0343 - val_accuracy: 0.0000e+00\n",
      "Epoch 51/100\n",
      "41/41 [==============================] - 3s 84ms/step - loss: 0.0321 - accuracy: 0.0000e+00 - val_loss: 0.0311 - val_accuracy: 0.0000e+00\n",
      "Epoch 52/100\n",
      "41/41 [==============================] - 3s 83ms/step - loss: 0.0314 - accuracy: 0.0000e+00 - val_loss: 0.0299 - val_accuracy: 0.0000e+00\n",
      "Epoch 53/100\n",
      "41/41 [==============================] - 3s 84ms/step - loss: 0.0320 - accuracy: 0.0000e+00 - val_loss: 0.0305 - val_accuracy: 0.0000e+00\n",
      "Epoch 54/100\n",
      "41/41 [==============================] - 4s 86ms/step - loss: 0.0319 - accuracy: 0.0000e+00 - val_loss: 0.0328 - val_accuracy: 0.0000e+00\n",
      "Epoch 55/100\n"
     ]
    },
    {
     "name": "stdout",
     "output_type": "stream",
     "text": [
      "41/41 [==============================] - 3s 75ms/step - loss: 0.0298 - accuracy: 0.0000e+00 - val_loss: 0.0320 - val_accuracy: 0.0000e+00\n",
      "Epoch 56/100\n",
      "41/41 [==============================] - 3s 76ms/step - loss: 0.0304 - accuracy: 0.0025 - val_loss: 0.0300 - val_accuracy: 0.0000e+00\n",
      "Epoch 57/100\n",
      "41/41 [==============================] - 3s 81ms/step - loss: 0.0289 - accuracy: 0.0000e+00 - val_loss: 0.0294 - val_accuracy: 0.0000e+00\n",
      "Epoch 58/100\n",
      "41/41 [==============================] - 3s 76ms/step - loss: 0.0299 - accuracy: 0.0000e+00 - val_loss: 0.0291 - val_accuracy: 0.0000e+00\n",
      "Epoch 59/100\n",
      "41/41 [==============================] - 3s 75ms/step - loss: 0.0315 - accuracy: 0.0000e+00 - val_loss: 0.0283 - val_accuracy: 0.0000e+00\n",
      "Epoch 60/100\n",
      "41/41 [==============================] - 3s 77ms/step - loss: 0.0283 - accuracy: 0.0000e+00 - val_loss: 0.0302 - val_accuracy: 0.0000e+00\n",
      "Epoch 61/100\n",
      "41/41 [==============================] - 3s 78ms/step - loss: 0.0307 - accuracy: 0.0000e+00 - val_loss: 0.0314 - val_accuracy: 0.0000e+00\n",
      "Epoch 62/100\n",
      "41/41 [==============================] - 3s 78ms/step - loss: 0.0303 - accuracy: 0.0000e+00 - val_loss: 0.0283 - val_accuracy: 0.0000e+00\n",
      "Epoch 63/100\n",
      "41/41 [==============================] - 3s 77ms/step - loss: 0.0269 - accuracy: 0.0025 - val_loss: 0.0278 - val_accuracy: 0.0000e+00\n",
      "Epoch 64/100\n",
      "41/41 [==============================] - 3s 77ms/step - loss: 0.0275 - accuracy: 0.0000e+00 - val_loss: 0.0316 - val_accuracy: 0.0000e+00\n",
      "Epoch 65/100\n",
      "41/41 [==============================] - 3s 76ms/step - loss: 0.0313 - accuracy: 0.0000e+00 - val_loss: 0.0296 - val_accuracy: 0.0000e+00\n",
      "Epoch 66/100\n",
      "41/41 [==============================] - 4s 92ms/step - loss: 0.0271 - accuracy: 0.0025 - val_loss: 0.0297 - val_accuracy: 0.0000e+00\n",
      "Epoch 67/100\n",
      "41/41 [==============================] - 4s 87ms/step - loss: 0.0249 - accuracy: 0.0025 - val_loss: 0.0277 - val_accuracy: 0.0000e+00\n",
      "Epoch 68/100\n",
      "41/41 [==============================] - 3s 77ms/step - loss: 0.0272 - accuracy: 0.0025 - val_loss: 0.0297 - val_accuracy: 0.0000e+00\n",
      "Epoch 69/100\n",
      "41/41 [==============================] - 3s 76ms/step - loss: 0.0263 - accuracy: 0.0025 - val_loss: 0.0282 - val_accuracy: 0.0000e+00\n",
      "Epoch 70/100\n",
      "41/41 [==============================] - 3s 75ms/step - loss: 0.0264 - accuracy: 0.0025 - val_loss: 0.0273 - val_accuracy: 0.0000e+00\n",
      "Epoch 71/100\n",
      "41/41 [==============================] - 3s 83ms/step - loss: 0.0256 - accuracy: 0.0025 - val_loss: 0.0289 - val_accuracy: 0.0000e+00\n",
      "Epoch 72/100\n",
      "41/41 [==============================] - 3s 86ms/step - loss: 0.0272 - accuracy: 0.0025 - val_loss: 0.0279 - val_accuracy: 0.0000e+00\n",
      "Epoch 73/100\n",
      "41/41 [==============================] - 3s 85ms/step - loss: 0.0259 - accuracy: 0.0000e+00 - val_loss: 0.0280 - val_accuracy: 0.0000e+00\n",
      "Epoch 74/100\n",
      "41/41 [==============================] - 3s 77ms/step - loss: 0.0257 - accuracy: 0.0025 - val_loss: 0.0283 - val_accuracy: 0.0000e+00\n",
      "Epoch 75/100\n",
      "41/41 [==============================] - 3s 80ms/step - loss: 0.0274 - accuracy: 0.0000e+00 - val_loss: 0.0282 - val_accuracy: 0.0000e+00\n",
      "Epoch 76/100\n",
      "41/41 [==============================] - 3s 77ms/step - loss: 0.0241 - accuracy: 0.0025 - val_loss: 0.0271 - val_accuracy: 0.0000e+00\n",
      "Epoch 77/100\n",
      "41/41 [==============================] - 3s 77ms/step - loss: 0.0251 - accuracy: 0.0025 - val_loss: 0.0280 - val_accuracy: 0.0000e+00\n",
      "Epoch 78/100\n",
      "41/41 [==============================] - 3s 78ms/step - loss: 0.0238 - accuracy: 0.0025 - val_loss: 0.0274 - val_accuracy: 0.0000e+00\n",
      "Epoch 79/100\n",
      "41/41 [==============================] - 3s 78ms/step - loss: 0.0256 - accuracy: 0.0000e+00 - val_loss: 0.0269 - val_accuracy: 0.0000e+00\n",
      "Epoch 80/100\n",
      "41/41 [==============================] - 3s 77ms/step - loss: 0.0264 - accuracy: 0.0000e+00 - val_loss: 0.0277 - val_accuracy: 0.0000e+00\n",
      "Epoch 81/100\n",
      "41/41 [==============================] - 3s 77ms/step - loss: 0.0256 - accuracy: 0.0000e+00 - val_loss: 0.0268 - val_accuracy: 0.0000e+00\n",
      "Epoch 82/100\n",
      "41/41 [==============================] - 3s 79ms/step - loss: 0.0245 - accuracy: 0.0025 - val_loss: 0.0278 - val_accuracy: 0.0000e+00\n",
      "Epoch 83/100\n",
      "41/41 [==============================] - 3s 78ms/step - loss: 0.0235 - accuracy: 0.0025 - val_loss: 0.0286 - val_accuracy: 0.0000e+00\n",
      "Epoch 84/100\n",
      "41/41 [==============================] - 3s 73ms/step - loss: 0.0257 - accuracy: 0.0000e+00 - val_loss: 0.0290 - val_accuracy: 0.0000e+00\n",
      "Epoch 85/100\n",
      "41/41 [==============================] - 3s 73ms/step - loss: 0.0244 - accuracy: 0.0025 - val_loss: 0.0281 - val_accuracy: 0.0000e+00\n",
      "Epoch 86/100\n",
      "41/41 [==============================] - 3s 71ms/step - loss: 0.0261 - accuracy: 0.0000e+00 - val_loss: 0.0292 - val_accuracy: 0.0000e+00\n",
      "Epoch 87/100\n",
      "41/41 [==============================] - 3s 77ms/step - loss: 0.0234 - accuracy: 0.0025 - val_loss: 0.0302 - val_accuracy: 0.0000e+00\n",
      "Epoch 88/100\n",
      "41/41 [==============================] - 3s 76ms/step - loss: 0.0247 - accuracy: 0.0000e+00 - val_loss: 0.0273 - val_accuracy: 0.0000e+00\n",
      "Epoch 89/100\n",
      "41/41 [==============================] - 3s 74ms/step - loss: 0.0237 - accuracy: 0.0000e+00 - val_loss: 0.0283 - val_accuracy: 0.0000e+00\n",
      "Epoch 90/100\n",
      "41/41 [==============================] - 3s 75ms/step - loss: 0.0236 - accuracy: 0.0000e+00 - val_loss: 0.0276 - val_accuracy: 0.0000e+00\n",
      "Epoch 91/100\n",
      "41/41 [==============================] - 3s 83ms/step - loss: 0.0239 - accuracy: 0.0000e+00 - val_loss: 0.0291 - val_accuracy: 0.0000e+00\n",
      "Epoch 92/100\n",
      "41/41 [==============================] - 3s 85ms/step - loss: 0.0215 - accuracy: 0.0025 - val_loss: 0.0275 - val_accuracy: 0.0000e+00\n",
      "Epoch 93/100\n",
      "41/41 [==============================] - 4s 92ms/step - loss: 0.0246 - accuracy: 0.0000e+00 - val_loss: 0.0272 - val_accuracy: 0.0000e+00\n",
      "Epoch 94/100\n",
      "41/41 [==============================] - 4s 86ms/step - loss: 0.0244 - accuracy: 0.0000e+00 - val_loss: 0.0271 - val_accuracy: 0.0000e+00\n",
      "Epoch 95/100\n",
      "41/41 [==============================] - 3s 84ms/step - loss: 0.0237 - accuracy: 0.0000e+00 - val_loss: 0.0273 - val_accuracy: 0.0000e+00\n",
      "Epoch 96/100\n",
      "41/41 [==============================] - 4s 98ms/step - loss: 0.0220 - accuracy: 0.0000e+00 - val_loss: 0.0274 - val_accuracy: 0.0000e+00\n",
      "Epoch 97/100\n",
      "41/41 [==============================] - 4s 91ms/step - loss: 0.0229 - accuracy: 0.0025 - val_loss: 0.0281 - val_accuracy: 0.0000e+00\n",
      "Epoch 98/100\n",
      "41/41 [==============================] - 4s 90ms/step - loss: 0.0246 - accuracy: 0.0000e+00 - val_loss: 0.0277 - val_accuracy: 0.0000e+00\n",
      "Epoch 99/100\n",
      "41/41 [==============================] - 4s 90ms/step - loss: 0.0241 - accuracy: 0.0000e+00 - val_loss: 0.0284 - val_accuracy: 0.0000e+00\n",
      "Epoch 100/100\n",
      "41/41 [==============================] - 4s 99ms/step - loss: 0.0229 - accuracy: 0.0025 - val_loss: 0.0275 - val_accuracy: 0.0000e+00\n"
     ]
    },
    {
     "data": {
      "text/plain": [
       "<keras.callbacks.History at 0x17eb0ba60d0>"
      ]
     },
     "execution_count": 27,
     "metadata": {},
     "output_type": "execute_result"
    }
   ],
   "source": [
    "final_model.fit([csv_data_train, IX_train], y_train, validation_data=([csv_data_test, IX_test], y_test), epochs=100, batch_size=10)"
   ]
  },
  {
   "cell_type": "code",
   "execution_count": 29,
   "id": "2c9c8ea0",
   "metadata": {},
   "outputs": [
    {
     "name": "stdout",
     "output_type": "stream",
     "text": [
      "5/5 [==============================] - 0s 46ms/step\n"
     ]
    }
   ],
   "source": [
    "predicts = final_model.predict([csv_data_test, IX_test]) * max_price"
   ]
  },
  {
   "cell_type": "code",
   "execution_count": 30,
   "id": "994df270",
   "metadata": {},
   "outputs": [],
   "source": [
    "predicted_price = predicts.flatten()    "
   ]
  },
  {
   "cell_type": "code",
   "execution_count": 33,
   "id": "ba6196c2",
   "metadata": {},
   "outputs": [],
   "source": [
    "real_price = y_test.values * max_price"
   ]
  },
  {
   "cell_type": "code",
   "execution_count": 32,
   "id": "4d8bf85a",
   "metadata": {
    "collapsed": true
   },
   "outputs": [
    {
     "data": {
      "text/plain": [
       "array([ 679122.29551375,  281947.71142304,  216617.31403321,\n",
       "        814927.4982214 ,  453795.32532394,  238591.8854773 ,\n",
       "        350831.24541491,  523648.98969233,  635447.59553671,\n",
       "        484609.35464501,  470010.63284278,  544751.89501047,\n",
       "       1171574.09203053,  352670.40136456,  472641.3654238 ,\n",
       "        138591.88066423,  140656.400159  ,  343620.76857686,\n",
       "        546737.8962487 ,  603422.9709506 ,  796721.91220522,\n",
       "       1182654.89915013,   95432.67770112,  462012.59475946,\n",
       "        206667.95106232,  887371.87224627,  474006.55305386,\n",
       "        783850.41746497,  102957.2493881 ,  102273.7171948 ,\n",
       "        846924.18968678,  519551.3754636 ,  596196.67261839,\n",
       "        751146.31971717,  415789.34668005,  637774.64272082,\n",
       "        521252.1969974 ,  526082.96835423,  328718.18679571,\n",
       "        758980.25071621,  229183.79218876,   77437.02654541,\n",
       "        372597.23500907,  660551.61488056,  289036.87559068,\n",
       "        680502.36625969,  393773.94486964,  932523.84150028,\n",
       "        888480.46797514,  913020.76202631,   85478.79742086,\n",
       "        559671.19301856, 1016834.29250121,  601830.39025962,\n",
       "        558413.98435831,  108510.57201624,  632299.83834922,\n",
       "        112486.5025878 ,  655248.25003743,  675025.51054955,\n",
       "        949574.04381037,  118843.46982837,  103551.17736757,\n",
       "        392394.39786971,  370657.27977455, 1394877.56949663,\n",
       "       1347059.03470516,  677456.21579885,  974532.72363544,\n",
       "        519551.3754636 ,  870407.82615542,  268173.30037802,\n",
       "        472336.63253486,  704169.18289661,  774068.06400418,\n",
       "        667360.79315841,  446747.58073688,  349693.03621352,\n",
       "        216725.53305328,  548562.49642372, 1271714.32983875,\n",
       "        309412.73415089,  500961.75268292,  445210.25525033,\n",
       "        425775.21911263,  514435.64262986,  464368.88442934,\n",
       "        172994.00663376,  655867.40511656,  397465.9614563 ,\n",
       "        480414.84740376, 1254259.97018814,  702484.59748924,\n",
       "        146005.59277833,  754951.42179728, 1111580.73198795,\n",
       "        481334.02165771,  166003.61223519,  441440.46238065,\n",
       "        512450.90711117,  145342.53032506,  417514.69698548,\n",
       "       1234822.79542089,  507746.40218914,  460476.31676495,\n",
       "         65606.60794377,  708713.02872896,  591277.73734927,\n",
       "         94215.18644691,  478353.47038507,  508523.68491888,\n",
       "        396531.51127696,  497640.59191942,  312351.75672919,\n",
       "        615370.05397677,  126809.42846835,  463660.34336388,\n",
       "        537048.15854132,  515643.27000082, 1047885.36053896,\n",
       "        166534.73433852,  106408.822909  ,  468980.20620644,\n",
       "       1029817.17056036,  137828.56449485,  432113.02597821,\n",
       "        136548.70381951,  854506.54801726,  492217.33288467,\n",
       "        104465.81248939,  142908.46437216,  705718.55454147,\n",
       "        460318.75650585,  472527.62524784])"
      ]
     },
     "execution_count": 32,
     "metadata": {},
     "output_type": "execute_result"
    }
   ],
   "source": [
    "predicted_price"
   ]
  },
  {
   "cell_type": "code",
   "execution_count": 34,
   "id": "7d6f1136",
   "metadata": {
    "collapsed": true
   },
   "outputs": [
    {
     "data": {
      "text/plain": [
       "array([ 289900.,  550000.,  196000.,  799900.,  534888.,  245000.,\n",
       "        275000.,  749000.,  521500.,  699900.,  625000.,  679000.,\n",
       "       1895000.,  139900.,  235000.,   72000.,   77000.,  395000.,\n",
       "        669472.,  725000., 1199000., 1430000.,  100000.,  229000.,\n",
       "         94500.,  910000.,  695000.,  750000.,   97500.,   99900.,\n",
       "        875000.,  559000.,  579500., 1495000.,  664900.,  729000.,\n",
       "        580000.,  550000.,  999000.,  895000.,  379500.,   63500.,\n",
       "         65000.,  699999.,  475000., 1188000.,  335000., 1045000.,\n",
       "       1695000.,  759000.,  106000.,  470000.,  825500.,  547900.,\n",
       "        578000.,  154500., 2395000.,  185000.,  899000.,  759000.,\n",
       "        875000.,   59900.,  117000.,  699500.,  448000., 1595000.,\n",
       "        869000., 1150000., 1229000.,  534977.,  299000.,  196000.,\n",
       "        409900.,  490000.,  799000.,  689000.,  389900.,  445000.,\n",
       "        218000.,  429900., 1089000.,  119000.,  589900.,  225000.,\n",
       "        529000.,  599500.,  495000.,  164900.,  695000.,  214900.,\n",
       "        209900., 1749000.,  765000.,  104950.,  979000.,  769000.,\n",
       "        595999.,  174900.,  589900.,  339000.,   67500.,  415000.,\n",
       "       1250000.,  530000.,  567000.,   74900.,  739000.,  615000.,\n",
       "         36000.,  575000.,  585000.,  425000.,  450000.,  265000.,\n",
       "        435000.,  110000.,  649990.,  699900.,  647000., 1698000.,\n",
       "        225000.,   62500.,  379000., 1999999.,  214900.,  419000.,\n",
       "        219000.,  895000.,  619000.,  136900.,  147000.,  680000.,\n",
       "        249900.,  515000.])"
      ]
     },
     "execution_count": 34,
     "metadata": {},
     "output_type": "execute_result"
    }
   ],
   "source": [
    "real_price"
   ]
  },
  {
   "cell_type": "code",
   "execution_count": 35,
   "id": "5c2ef0af",
   "metadata": {},
   "outputs": [],
   "source": [
    "different_price = abs(predicted_price - real_price) "
   ]
  },
  {
   "cell_type": "code",
   "execution_count": 36,
   "id": "09976fba",
   "metadata": {},
   "outputs": [
    {
     "data": {
      "text/plain": [
       "160843.68553354402"
      ]
     },
     "execution_count": 36,
     "metadata": {},
     "output_type": "execute_result"
    }
   ],
   "source": [
    "different_price.mean()"
   ]
  },
  {
   "cell_type": "code",
   "execution_count": 37,
   "id": "883771e5",
   "metadata": {},
   "outputs": [
    {
     "data": {
      "text/plain": [
       "224929.39057132922"
      ]
     },
     "execution_count": 37,
     "metadata": {},
     "output_type": "execute_result"
    }
   ],
   "source": [
    "different_price.std()"
   ]
  },
  {
   "cell_type": "code",
   "execution_count": 38,
   "id": "ca76414c",
   "metadata": {},
   "outputs": [],
   "source": [
    "from sklearn.metrics import r2_score, mean_absolute_error"
   ]
  },
  {
   "cell_type": "code",
   "execution_count": 39,
   "id": "a7f014ce",
   "metadata": {},
   "outputs": [
    {
     "data": {
      "text/plain": [
       "0.6014701385424563"
      ]
     },
     "execution_count": 39,
     "metadata": {},
     "output_type": "execute_result"
    }
   ],
   "source": [
    "r2_score(y_pred=predicted_price, y_true=real_price)"
   ]
  },
  {
   "cell_type": "code",
   "execution_count": null,
   "id": "0652d285",
   "metadata": {},
   "outputs": [],
   "source": []
  }
 ],
 "metadata": {
  "kernelspec": {
   "display_name": "Python 3 (ipykernel)",
   "language": "python",
   "name": "python3"
  },
  "language_info": {
   "codemirror_mode": {
    "name": "ipython",
    "version": 3
   },
   "file_extension": ".py",
   "mimetype": "text/x-python",
   "name": "python",
   "nbconvert_exporter": "python",
   "pygments_lexer": "ipython3",
   "version": "3.9.13"
  }
 },
 "nbformat": 4,
 "nbformat_minor": 5
}
