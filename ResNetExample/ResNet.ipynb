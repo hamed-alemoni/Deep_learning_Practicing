{
 "cells": [
  {
   "cell_type": "code",
   "execution_count": null,
   "id": "7fff6c39",
   "metadata": {},
   "outputs": [],
   "source": [
    "import os\n",
    "os.path.expanduser('`/.keras/models')\n",
    "from tensorflow.keras.applications.resnet import ResNet152\n",
    "from tensorflow.keras.applications.resnet import preprocess_input, decode_predictions\n",
    "from tensorflow.keras.preprocessing import image\n",
    "import numpy as np"
   ]
  },
  {
   "cell_type": "code",
   "execution_count": null,
   "id": "ee563bd8",
   "metadata": {},
   "outputs": [],
   "source": [
    "model = ResNet152(weights='imagenet')"
   ]
  },
  {
   "cell_type": "code",
   "execution_count": null,
   "id": "265f1064",
   "metadata": {},
   "outputs": [],
   "source": [
    "model.summary()"
   ]
  },
  {
   "cell_type": "code",
   "execution_count": null,
   "id": "67e68a3c",
   "metadata": {},
   "outputs": [],
   "source": [
    "# load an cat image to give it to model to predict it\n",
    "cat_image = image.load_img('cat.jpg', target_size=(224, 224))\n",
    "cat_image"
   ]
  },
  {
   "cell_type": "code",
   "execution_count": null,
   "id": "67a31555",
   "metadata": {
    "scrolled": true
   },
   "outputs": [],
   "source": [
    "X = image.img_to_array(cat_image)\n",
    "X"
   ]
  },
  {
   "cell_type": "code",
   "execution_count": null,
   "id": "2f4313c1",
   "metadata": {
    "scrolled": true
   },
   "outputs": [],
   "source": [
    "X = np.expand_dims(X, axis=0)\n",
    "X"
   ]
  },
  {
   "cell_type": "code",
   "execution_count": null,
   "id": "d1faa948",
   "metadata": {},
   "outputs": [],
   "source": [
    "X.shape"
   ]
  },
  {
   "cell_type": "code",
   "execution_count": null,
   "id": "84dfcb70",
   "metadata": {
    "scrolled": true
   },
   "outputs": [],
   "source": [
    "# preprocess the image to be sure the image is ready to be predict\n",
    "X = preprocess_input(X)\n",
    "X"
   ]
  },
  {
   "cell_type": "code",
   "execution_count": null,
   "id": "1a62c692",
   "metadata": {},
   "outputs": [],
   "source": [
    "prediction = model.predict(X)\n",
    "prediction"
   ]
  },
  {
   "cell_type": "code",
   "execution_count": null,
   "id": "6d0ff2ab",
   "metadata": {},
   "outputs": [],
   "source": [
    "# make result readable\n",
    "decode_predictions(prediction, top=3)"
   ]
  },
  {
   "cell_type": "markdown",
   "id": "df8c4986",
   "metadata": {},
   "source": [
    "Below code is an example of using ResNet to predict objects that apear in webcam(internal webcam)"
   ]
  },
  {
   "cell_type": "code",
   "execution_count": null,
   "id": "d6f3290c",
   "metadata": {},
   "outputs": [],
   "source": [
    "import cv2\n",
    "capture = cv2.VideoCapture(0) # change to 1 if you have external webcam\n",
    "while True:\n",
    "    ret, frame = capture.read()\n",
    "    frame = cv2.resize(frame, (224, 224))\n",
    "    image = frame[...,::-1]\n",
    "    image = np.expand_dims(image, axis=0)\n",
    "    image = preprocess_input(image)\n",
    "    prediction = model.predict(image)\n",
    "    name = decode_predictions(prediction, top=3)[0][0][1]\n",
    "    cv2.putText(frame, name, (30, 30), cv2.FONT_HERSHEY_SIMPLEX, 1.0, (0, 0, 0))\n",
    "    cv2.imshow('webcam', frame)\n",
    "    if cv2.waitKey(1) == 13:\n",
    "        break\n",
    "capture.release()\n",
    "cv2.destroyAllWindows()"
   ]
  },
  {
   "cell_type": "code",
   "execution_count": null,
   "id": "0da1e1cf",
   "metadata": {},
   "outputs": [],
   "source": []
  }
 ],
 "metadata": {
  "kernelspec": {
   "display_name": "Python 3 (ipykernel)",
   "language": "python",
   "name": "python3"
  },
  "language_info": {
   "codemirror_mode": {
    "name": "ipython",
    "version": 3
   },
   "file_extension": ".py",
   "mimetype": "text/x-python",
   "name": "python",
   "nbconvert_exporter": "python",
   "pygments_lexer": "ipython3",
   "version": "3.9.13"
  }
 },
 "nbformat": 4,
 "nbformat_minor": 5
}
